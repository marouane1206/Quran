{
 "cells": [
  {
   "cell_type": "code",
   "execution_count": 1,
   "id": "491a95e8",
   "metadata": {},
   "outputs": [],
   "source": [
    "import nltk\n",
    "import pyquran as q\n",
    "import pandas as pd\n",
    "import matplotlib.pyplot as plt\n",
    "import seaborn as sns\n",
    "%matplotlib inline"
   ]
  },
  {
   "cell_type": "code",
   "execution_count": 2,
   "id": "dd71a26e",
   "metadata": {},
   "outputs": [
    {
     "data": {
      "text/plain": [
       "<module 'quran' from 'C:\\\\Users\\\\msanh\\\\anaconda3\\\\lib\\\\site-packages\\\\pyquran\\\\tools\\\\quran.py'>"
      ]
     },
     "execution_count": 2,
     "metadata": {},
     "output_type": "execute_result"
    }
   ],
   "source": [
    "q.quran"
   ]
  },
  {
   "cell_type": "code",
   "execution_count": 3,
   "id": "0ac2ec14",
   "metadata": {},
   "outputs": [
    {
     "data": {
      "text/plain": [
       "['إذا جاء نصر الله والفتح',\n",
       " 'ورأيت الناس يدخلون فى دين الله أفواجا',\n",
       " 'فسبح بحمد ربك واستغفره إنه كان توابا']"
      ]
     },
     "execution_count": 3,
     "metadata": {},
     "output_type": "execute_result"
    }
   ],
   "source": [
    "sura_number= 110\n",
    "q.quran.get_sura(sura_number, with_tashkeel=False, basmalah=False)"
   ]
  },
  {
   "cell_type": "code",
   "execution_count": 4,
   "id": "598f0a5f",
   "metadata": {},
   "outputs": [],
   "source": [
    "fatiha = q.quran.get_sura(1, with_tashkeel=False)"
   ]
  },
  {
   "cell_type": "code",
   "execution_count": 5,
   "id": "37fe4138",
   "metadata": {},
   "outputs": [
    {
     "data": {
      "text/plain": [
       "'الحمد لله رب العلمين'"
      ]
     },
     "execution_count": 5,
     "metadata": {},
     "output_type": "execute_result"
    }
   ],
   "source": [
    "q.quran.get_verse(sura_number=1, verse_number=2)"
   ]
  },
  {
   "cell_type": "code",
   "execution_count": 6,
   "id": "3a12b88a",
   "metadata": {},
   "outputs": [
    {
     "data": {
      "text/plain": [
       "67"
      ]
     },
     "execution_count": 6,
     "metadata": {},
     "output_type": "execute_result"
    }
   ],
   "source": [
    "q.quran.get_sura_number('الملك')"
   ]
  },
  {
   "cell_type": "code",
   "execution_count": 7,
   "id": "c64999e3",
   "metadata": {},
   "outputs": [
    {
     "data": {
      "text/plain": [
       "'البقرة'"
      ]
     },
     "execution_count": 7,
     "metadata": {},
     "output_type": "execute_result"
    }
   ],
   "source": [
    "q.quran.get_sura_name(2)"
   ]
  },
  {
   "cell_type": "code",
   "execution_count": 8,
   "id": "e83e84ed",
   "metadata": {},
   "outputs": [],
   "source": [
    "nodot = q.systems.withoutDots"
   ]
  },
  {
   "cell_type": "code",
   "execution_count": 9,
   "id": "6b13e422",
   "metadata": {},
   "outputs": [
    {
     "data": {
      "text/plain": [
       "[['ء'],\n",
       " ['ٔ'],\n",
       " ['آ'],\n",
       " ['أ'],\n",
       " ['ؤ'],\n",
       " ['إ'],\n",
       " ['ئ'],\n",
       " ['ا'],\n",
       " ['ب', 'ت', 'ث', 'ن'],\n",
       " ['ة'],\n",
       " ['ح', 'خ', 'ج'],\n",
       " ['د', 'ذ'],\n",
       " ['ر', 'ز'],\n",
       " ['س', 'ش'],\n",
       " ['ص', 'ض'],\n",
       " ['ط', 'ظ'],\n",
       " ['ع', 'غ'],\n",
       " ['ف', 'ق'],\n",
       " ['ك'],\n",
       " ['ل'],\n",
       " ['م'],\n",
       " ['ه'],\n",
       " ['و'],\n",
       " ['ى'],\n",
       " ['ي']]"
      ]
     },
     "execution_count": 9,
     "metadata": {},
     "output_type": "execute_result"
    }
   ],
   "source": [
    "q.check_system(nodot,index=None)"
   ]
  },
  {
   "cell_type": "code",
   "execution_count": 13,
   "id": "0ad48587",
   "metadata": {},
   "outputs": [
    {
     "data": {
      "text/plain": [
       "['أ']"
      ]
     },
     "execution_count": 13,
     "metadata": {},
     "output_type": "execute_result"
    }
   ],
   "source": [
    "q.check_system(nodot,index=3)"
   ]
  },
  {
   "cell_type": "code",
   "execution_count": 14,
   "id": "54596bfd",
   "metadata": {},
   "outputs": [
    {
     "data": {
      "text/plain": [
       "'أَأْ'"
      ]
     },
     "execution_count": 14,
     "metadata": {},
     "output_type": "execute_result"
    }
   ],
   "source": [
    "q.factor_alef_mad('آ')"
   ]
  },
  {
   "cell_type": "code",
   "execution_count": 15,
   "id": "278778c6",
   "metadata": {},
   "outputs": [
    {
     "name": "stdout",
     "output_type": "stream",
     "text": [
      "إِنَّا أَعْطَيْنَكَ الْكَوْثَرَ\n"
     ]
    },
    {
     "data": {
      "text/plain": [
       "['إِ',\n",
       " 'نَّ',\n",
       " 'ا',\n",
       " ' ',\n",
       " 'أَ',\n",
       " 'عْ',\n",
       " 'طَ',\n",
       " 'يْ',\n",
       " 'نَ',\n",
       " 'كَ',\n",
       " ' ',\n",
       " 'ا',\n",
       " 'لْ',\n",
       " 'كَ',\n",
       " 'وْ',\n",
       " 'ثَ',\n",
       " 'رَ']"
      ]
     },
     "execution_count": 15,
     "metadata": {},
     "output_type": "execute_result"
    }
   ],
   "source": [
    "q.grouping_letter_diacritics('إِنَّا أَعْطَيْنَكَ الْكَوْثَرَ')"
   ]
  },
  {
   "cell_type": "code",
   "execution_count": 16,
   "id": "52283899",
   "metadata": {},
   "outputs": [
    {
     "data": {
      "text/plain": [
       "['ء',\n",
       " 'ٔ',\n",
       " 'أ',\n",
       " 'ؤ',\n",
       " 'إ',\n",
       " 'ئ',\n",
       " 'ة',\n",
       " 'ث',\n",
       " 'ج',\n",
       " 'ح',\n",
       " 'خ',\n",
       " 'ذ',\n",
       " 'ر',\n",
       " 'ز',\n",
       " 'س',\n",
       " 'ش',\n",
       " 'ص',\n",
       " 'ض',\n",
       " 'ط',\n",
       " 'ظ',\n",
       " 'ع',\n",
       " 'غ',\n",
       " 'ف',\n",
       " 'ك',\n",
       " 'ل',\n",
       " 'م',\n",
       " 'ن',\n",
       " 'ه',\n",
       " 'و',\n",
       " 'ى']"
      ]
     },
     "execution_count": 16,
     "metadata": {},
     "output_type": "execute_result"
    }
   ],
   "source": [
    "q.alphabet_excluding([q.alef, q.beh, q.qaf, q.teh, q.dal, q.yeh, q.alef_mad])"
   ]
  },
  {
   "cell_type": "code",
   "execution_count": 17,
   "id": "36b9fe45",
   "metadata": {},
   "outputs": [
    {
     "data": {
      "text/plain": [
       "'إِنَّا أَنزَلْنَهُ قُرْءَنًا عَرَبِيًّا لَّعَلَّكُمْ تَعْقِلُونَ'"
      ]
     },
     "execution_count": 17,
     "metadata": {},
     "output_type": "execute_result"
    }
   ],
   "source": [
    "x = q.quran.get_verse(12, 2, with_tashkeel=True)\n",
    "x"
   ]
  },
  {
   "cell_type": "code",
   "execution_count": 18,
   "id": "c9f03475",
   "metadata": {},
   "outputs": [
    {
     "data": {
      "text/plain": [
       "'إنا أنزلنه قرءنا عربيا لعلكم تعقلون'"
      ]
     },
     "execution_count": 18,
     "metadata": {},
     "output_type": "execute_result"
    }
   ],
   "source": [
    "q.strip_tashkeel(x)"
   ]
  },
  {
   "cell_type": "code",
   "execution_count": 19,
   "id": "674b1cb1",
   "metadata": {},
   "outputs": [
    {
     "data": {
      "text/plain": [
       "'<in~aA >aEoTayonaka Alokawovara'"
      ]
     },
     "execution_count": 19,
     "metadata": {},
     "output_type": "execute_result"
    }
   ],
   "source": [
    "q.buckwalter_transliteration('إِنَّا أَعْطَيْنَكَ الْكَوْثَرَ')"
   ]
  },
  {
   "cell_type": "code",
   "execution_count": 20,
   "id": "01b04b6c",
   "metadata": {},
   "outputs": [
    {
     "data": {
      "text/plain": [
       "array([[0, 0, 0, 0, 0, 0, 0, 3, 1, 0, 2, 0, 0, 2, 0, 1, 0, 0, 0, 0, 0, 0,\n",
       "        0, 0, 0, 0, 4, 3, 1, 1, 0, 0, 1],\n",
       "       [0, 0, 0, 0, 0, 0, 0, 2, 1, 0, 1, 1, 0, 1, 0, 0, 0, 0, 0, 0, 0, 1,\n",
       "        0, 0, 0, 0, 5, 2, 1, 1, 0, 0, 1],\n",
       "       [0, 0, 0, 0, 0, 0, 0, 2, 0, 0, 2, 0, 0, 2, 0, 0, 0, 0, 0, 0, 0, 0,\n",
       "        0, 0, 0, 0, 2, 2, 1, 0, 0, 0, 1],\n",
       "       [0, 0, 0, 0, 0, 0, 0, 1, 0, 0, 0, 1, 0, 0, 0, 0, 0, 0, 0, 0, 0, 0,\n",
       "        0, 0, 0, 1, 2, 2, 1, 0, 1, 0, 2],\n",
       "       [0, 0, 0, 0, 0, 2, 0, 2, 2, 0, 0, 1, 0, 0, 0, 1, 0, 0, 0, 0, 0, 2,\n",
       "        0, 0, 0, 2, 0, 0, 3, 0, 1, 0, 3],\n",
       "       [0, 0, 0, 0, 0, 0, 0, 4, 1, 0, 0, 1, 0, 1, 0, 1, 0, 1, 0, 1, 0, 0,\n",
       "        0, 0, 1, 0, 2, 2, 1, 1, 0, 0, 1],\n",
       "       [0, 0, 0, 1, 0, 0, 0, 5, 2, 0, 0, 0, 1, 2, 0, 0, 0, 1, 2, 1, 0, 3,\n",
       "        2, 0, 0, 0, 7, 4, 3, 2, 2, 0, 5]])"
      ]
     },
     "execution_count": 20,
     "metadata": {},
     "output_type": "execute_result"
    }
   ],
   "source": [
    "newSystem = [[q.beh, q.teh, q.theh], [q.jeem, q.hah, q.khah]]\n",
    "q.count_rasm(q.quran.get_sura(1), newSystem)"
   ]
  },
  {
   "cell_type": "code",
   "execution_count": 21,
   "id": "f770d00a",
   "metadata": {},
   "outputs": [
    {
     "data": {
      "text/plain": [
       "[(3, 5), (7, 9), (10, 12), (13, 15), (17, 19)]"
      ]
     },
     "execution_count": 21,
     "metadata": {},
     "output_type": "execute_result"
    }
   ],
   "source": [
    "string = 'صِفْ ذَاْ ثَنَاْ كَمْ جَاْدَ شَخْصٌ'\n",
    "q.search_string_with_tashkeel(string, 'َْ')"
   ]
  },
  {
   "cell_type": "code",
   "execution_count": 22,
   "id": "698ba85a",
   "metadata": {},
   "outputs": [
    {
     "data": {
      "text/plain": [
       "{'أ': 101, 'ب': 133, 'تُ': 0}"
      ]
     },
     "execution_count": 22,
     "metadata": {},
     "output_type": "execute_result"
    }
   ],
   "source": [
    "q.frequency_of_character(['أ',\"ب\",\"تُ\"],verseNum=2,with_tashkeel=False)\n",
    "#that will count the vers number **2** in all swar"
   ]
  },
  {
   "cell_type": "code",
   "execution_count": 23,
   "id": "e57bfcf2",
   "metadata": {},
   "outputs": [
    {
     "data": {
      "text/plain": [
       "{'أ': 0, 'ب': 1, 'تُ': 0}"
      ]
     },
     "execution_count": 23,
     "metadata": {},
     "output_type": "execute_result"
    }
   ],
   "source": [
    "q.frequency_of_character(['أ',\"ب\",\"تُ\"],chapterNum=1,verseNum=2,with_tashkeel=False)\n",
    "#that will count the vers number **2** in chapter **1**"
   ]
  },
  {
   "cell_type": "code",
   "execution_count": 24,
   "id": "730149c0",
   "metadata": {},
   "outputs": [
    {
     "data": {
      "text/plain": [
       "{'أ': 8900, 'ب': 11491, 'تُ': 2149}"
      ]
     },
     "execution_count": 24,
     "metadata": {},
     "output_type": "execute_result"
    }
   ],
   "source": [
    "q.frequency_of_character(['أ',\"ب\",\"تُ\"],with_tashkeel=True)\n",
    "#that will count in **all Quran**"
   ]
  },
  {
   "cell_type": "code",
   "execution_count": 25,
   "id": "1a9d09de",
   "metadata": {},
   "outputs": [
    {
     "data": {
      "text/plain": [
       "[{'بسم': 1, 'الله': 1, 'الرحمن': 1, 'الرحيم': 1},\n",
       " {'الحمد': 1, 'لله': 1, 'رب': 1, 'العلمين': 1},\n",
       " {'الرحمن': 1, 'الرحيم': 1},\n",
       " {'ملك': 1, 'يوم': 1, 'الدين': 1},\n",
       " {'إياك': 1, 'نعبد': 1, 'وإياك': 1, 'نستعين': 1},\n",
       " {'اهدنا': 1, 'الصرط': 1, 'المستقيم': 1},\n",
       " {'عليهم': 2,\n",
       "  'صرط': 1,\n",
       "  'الذين': 1,\n",
       "  'أنعمت': 1,\n",
       "  'غير': 1,\n",
       "  'المغضوب': 1,\n",
       "  'ولا': 1,\n",
       "  'الضالين': 1}]"
      ]
     },
     "execution_count": 25,
     "metadata": {},
     "output_type": "execute_result"
    }
   ],
   "source": [
    "q.frequency_sura_level(suraNumber=1)"
   ]
  },
  {
   "cell_type": "code",
   "execution_count": 26,
   "id": "57bd5984",
   "metadata": {},
   "outputs": [
    {
     "data": {
      "text/plain": [
       "{'الرحمن': 2,\n",
       " 'الرحيم': 2,\n",
       " 'عليهم': 2,\n",
       " 'الله': 1,\n",
       " 'لله': 1,\n",
       " 'الدين': 1,\n",
       " 'الذين': 1,\n",
       " 'إياك': 1,\n",
       " 'وإياك': 1,\n",
       " 'بسم': 1,\n",
       " 'الحمد': 1,\n",
       " 'رب': 1,\n",
       " 'العلمين': 1,\n",
       " 'ملك': 1,\n",
       " 'يوم': 1,\n",
       " 'نعبد': 1,\n",
       " 'نستعين': 1,\n",
       " 'اهدنا': 1,\n",
       " 'الصرط': 1,\n",
       " 'المستقيم': 1,\n",
       " 'صرط': 1,\n",
       " 'أنعمت': 1,\n",
       " 'غير': 1,\n",
       " 'المغضوب': 1,\n",
       " 'ولا': 1,\n",
       " 'الضالين': 1}"
      ]
     },
     "execution_count": 26,
     "metadata": {},
     "output_type": "execute_result"
    }
   ],
   "source": [
    "frequency_dic = q.generate_frequency_dictionary(1)\n",
    "q.sort_dictionary_by_similarity(frequency_dic)\n",
    "# this dictionary is sorted using similarity 0.8"
   ]
  },
  {
   "cell_type": "code",
   "execution_count": 110,
   "id": "ed880898",
   "metadata": {},
   "outputs": [
    {
     "data": {
      "text/plain": [
       "True"
      ]
     },
     "execution_count": 110,
     "metadata": {},
     "output_type": "execute_result"
    }
   ],
   "source": [
    "frequency_dic = q.generate_frequency_dictionary(1)\n",
    "q.check_sura_with_frequency(1, frequency_dic)"
   ]
  },
  {
   "cell_type": "code",
   "execution_count": 81,
   "id": "bc24c000",
   "metadata": {},
   "outputs": [
    {
     "data": {
      "text/plain": [
       "{'ملك يوم الدين': [('مَلِكِ يَوْمِ الدِّينِ', 0, 4, 1)]}"
      ]
     },
     "execution_count": 81,
     "metadata": {},
     "output_type": "execute_result"
    }
   ],
   "source": [
    "# search in chapter = 1 only using mode 3 (default)\n",
    "q.search_sequence(sequancesList=['ملك يوم الدين'],chapterNum=1)\n",
    "#it will return\n",
    "#{'sequance-1' : [ (matched_sequance , position , vers_num , chapter_num) , (....) ],\n",
    "# 'sequance-2' : [ (matched_sequance , position , vers_num , chapter_num) , (....) ] }\n",
    "# Note : position == 0 if sequance is a sentence and == word position if sequance is a word"
   ]
  },
  {
   "cell_type": "code",
   "execution_count": 99,
   "id": "a2475568",
   "metadata": {},
   "outputs": [
    {
     "name": "stdout",
     "output_type": "stream",
     "text": [
      "(0, 'بسم الله الرحمن الرحيم')\n",
      "\n",
      "\n",
      "(1, 'الحمد لله رب العلمين')\n",
      "\n",
      "\n",
      "(2, 'الرحمن الرحيم')\n",
      "\n",
      "\n",
      "(3, 'ملك يوم الدين')\n",
      "\n",
      "\n",
      "(4, 'إياك نعبد وإياك نستعين')\n",
      "\n",
      "\n",
      "(5, 'اهدنا الصرط المستقيم')\n",
      "\n",
      "\n",
      "(6, 'صرط الذين أنعمت عليهم غير المغضوب عليهم ولا الضالين')\n",
      "\n",
      "\n"
     ]
    }
   ],
   "source": [
    "for aya in enumerate(fatiha[:7]):\n",
    "    print(aya)\n",
    "    print('\\n')"
   ]
  },
  {
   "cell_type": "code",
   "execution_count": 122,
   "id": "45a52755",
   "metadata": {},
   "outputs": [],
   "source": [
    "df= pd.DataFrame(fatiha,columns=[\"Ayah\"])"
   ]
  },
  {
   "cell_type": "code",
   "execution_count": 124,
   "id": "161e3c92",
   "metadata": {},
   "outputs": [],
   "source": [
    "df['length'] = df['Ayah'].apply(len)"
   ]
  },
  {
   "cell_type": "code",
   "execution_count": 125,
   "id": "17b32df9",
   "metadata": {},
   "outputs": [
    {
     "data": {
      "text/html": [
       "<div>\n",
       "<style scoped>\n",
       "    .dataframe tbody tr th:only-of-type {\n",
       "        vertical-align: middle;\n",
       "    }\n",
       "\n",
       "    .dataframe tbody tr th {\n",
       "        vertical-align: top;\n",
       "    }\n",
       "\n",
       "    .dataframe thead th {\n",
       "        text-align: right;\n",
       "    }\n",
       "</style>\n",
       "<table border=\"1\" class=\"dataframe\">\n",
       "  <thead>\n",
       "    <tr style=\"text-align: right;\">\n",
       "      <th></th>\n",
       "      <th>Ayah</th>\n",
       "      <th>length</th>\n",
       "    </tr>\n",
       "  </thead>\n",
       "  <tbody>\n",
       "    <tr>\n",
       "      <th>0</th>\n",
       "      <td>بسم الله الرحمن الرحيم</td>\n",
       "      <td>22</td>\n",
       "    </tr>\n",
       "    <tr>\n",
       "      <th>1</th>\n",
       "      <td>الحمد لله رب العلمين</td>\n",
       "      <td>20</td>\n",
       "    </tr>\n",
       "    <tr>\n",
       "      <th>2</th>\n",
       "      <td>الرحمن الرحيم</td>\n",
       "      <td>13</td>\n",
       "    </tr>\n",
       "    <tr>\n",
       "      <th>3</th>\n",
       "      <td>ملك يوم الدين</td>\n",
       "      <td>13</td>\n",
       "    </tr>\n",
       "    <tr>\n",
       "      <th>4</th>\n",
       "      <td>إياك نعبد وإياك نستعين</td>\n",
       "      <td>22</td>\n",
       "    </tr>\n",
       "  </tbody>\n",
       "</table>\n",
       "</div>"
      ],
      "text/plain": [
       "                     Ayah  length\n",
       "0  بسم الله الرحمن الرحيم      22\n",
       "1    الحمد لله رب العلمين      20\n",
       "2           الرحمن الرحيم      13\n",
       "3           ملك يوم الدين      13\n",
       "4  إياك نعبد وإياك نستعين      22"
      ]
     },
     "execution_count": 125,
     "metadata": {},
     "output_type": "execute_result"
    }
   ],
   "source": [
    "df.head()"
   ]
  },
  {
   "cell_type": "code",
   "execution_count": 128,
   "id": "7377d841",
   "metadata": {},
   "outputs": [
    {
     "data": {
      "text/plain": [
       "<AxesSubplot:ylabel='Frequency'>"
      ]
     },
     "execution_count": 128,
     "metadata": {},
     "output_type": "execute_result"
    },
    {
     "data": {
      "image/png": "[encoded data removed]",
      "text/plain": [
       "<Figure size 432x288 with 1 Axes>"
      ]
     },
     "metadata": {
      "needs_background": "light"
     },
     "output_type": "display_data"
    }
   ],
   "source": [
    "df['length'].plot(bins=50, kind='hist') "
   ]
  },
  {
   "cell_type": "code",
   "execution_count": 129,
   "id": "9aae710b",
   "metadata": {},
   "outputs": [
    {
     "data": {
      "text/plain": [
       "count     7.000000\n",
       "mean     23.000000\n",
       "std      12.935739\n",
       "min      13.000000\n",
       "25%      16.500000\n",
       "50%      20.000000\n",
       "75%      22.000000\n",
       "max      51.000000\n",
       "Name: length, dtype: float64"
      ]
     },
     "execution_count": 129,
     "metadata": {},
     "output_type": "execute_result"
    }
   ],
   "source": [
    "df.length.describe()"
   ]
  },
  {
   "cell_type": "code",
   "execution_count": 134,
   "id": "e4e56f03",
   "metadata": {},
   "outputs": [
    {
     "data": {
      "text/plain": [
       "0    بسم الله الرحمن الرحيم\n",
       "1      الحمد لله رب العلمين\n",
       "2             الرحمن الرحيم\n",
       "3             ملك يوم الدين\n",
       "4    إياك نعبد وإياك نستعين\n",
       "Name: Ayah, dtype: object"
      ]
     },
     "execution_count": 134,
     "metadata": {},
     "output_type": "execute_result"
    }
   ],
   "source": [
    "# Check to make sure its working\n",
    "df['Ayah'].head(5)"
   ]
  },
  {
   "cell_type": "code",
   "execution_count": 135,
   "id": "d173d089",
   "metadata": {},
   "outputs": [
    {
     "data": {
      "text/plain": [
       "{'الرحمن': 2,\n",
       " 'الرحيم': 2,\n",
       " 'عليهم': 2,\n",
       " 'بسم': 1,\n",
       " 'الله': 1,\n",
       " 'الحمد': 1,\n",
       " 'لله': 1,\n",
       " 'رب': 1,\n",
       " 'العلمين': 1,\n",
       " 'ملك': 1,\n",
       " 'يوم': 1,\n",
       " 'الدين': 1,\n",
       " 'إياك': 1,\n",
       " 'نعبد': 1,\n",
       " 'وإياك': 1,\n",
       " 'نستعين': 1,\n",
       " 'اهدنا': 1,\n",
       " 'الصرط': 1,\n",
       " 'المستقيم': 1,\n",
       " 'صرط': 1,\n",
       " 'الذين': 1,\n",
       " 'أنعمت': 1,\n",
       " 'غير': 1,\n",
       " 'المغضوب': 1,\n",
       " 'ولا': 1,\n",
       " 'الضالين': 1}"
      ]
     },
     "execution_count": 135,
     "metadata": {},
     "output_type": "execute_result"
    }
   ],
   "source": [
    "frequency_dic "
   ]
  },
  {
   "cell_type": "code",
   "execution_count": 136,
   "id": "2c5dd97d",
   "metadata": {},
   "outputs": [
    {
     "name": "stdout",
     "output_type": "stream",
     "text": [
      "ملك يوم الدين\n"
     ]
    }
   ],
   "source": [
    "ayah4 = df['Ayah'][3]\n",
    "print(ayah4)"
   ]
  },
  {
   "cell_type": "code",
   "execution_count": 137,
   "id": "28cccb42",
   "metadata": {},
   "outputs": [],
   "source": [
    "from sklearn.feature_extraction.text import CountVectorizer"
   ]
  },
  {
   "cell_type": "code",
   "execution_count": 138,
   "id": "706c4b0e",
   "metadata": {},
   "outputs": [
    {
     "name": "stdout",
     "output_type": "stream",
     "text": [
      "26\n"
     ]
    }
   ],
   "source": [
    "# Might take awhile...\n",
    "bow_transformer = CountVectorizer().fit(df['Ayah'])\n",
    "\n",
    "# Print total number of vocab words\n",
    "print(len(bow_transformer.vocabulary_))"
   ]
  },
  {
   "cell_type": "code",
   "execution_count": 139,
   "id": "38026446",
   "metadata": {},
   "outputs": [
    {
     "name": "stdout",
     "output_type": "stream",
     "text": [
      "  (0, 3)\t1\n",
      "  (0, 20)\t1\n",
      "  (0, 25)\t1\n",
      "(1, 26)\n"
     ]
    }
   ],
   "source": [
    "bow4 = bow_transformer.transform([ayah4])\n",
    "print(bow4)\n",
    "print(bow4.shape)"
   ]
  },
  {
   "cell_type": "code",
   "execution_count": 140,
   "id": "8af6f35a",
   "metadata": {},
   "outputs": [
    {
     "name": "stdout",
     "output_type": "stream",
     "text": [
      "ملك\n",
      "يوم\n"
     ]
    }
   ],
   "source": [
    "print(bow_transformer.get_feature_names()[20])\n",
    "print(bow_transformer.get_feature_names()[25])"
   ]
  },
  {
   "cell_type": "code",
   "execution_count": 144,
   "id": "265c3e4d",
   "metadata": {},
   "outputs": [],
   "source": [
    "ayah_bow = bow_transformer.transform(df['Ayah'])"
   ]
  },
  {
   "cell_type": "code",
   "execution_count": 145,
   "id": "31d47671",
   "metadata": {},
   "outputs": [
    {
     "name": "stdout",
     "output_type": "stream",
     "text": [
      "Shape of Sparse Matrix:  (7, 26)\n",
      "Amount of Non-Zero occurences:  28\n"
     ]
    }
   ],
   "source": [
    "print('Shape of Sparse Matrix: ', ayah_bow.shape)\n",
    "print('Amount of Non-Zero occurences: ', ayah_bow.nnz)"
   ]
  },
  {
   "cell_type": "code",
   "execution_count": 146,
   "id": "115ff75a",
   "metadata": {},
   "outputs": [
    {
     "name": "stdout",
     "output_type": "stream",
     "text": [
      "sparsity: 15\n"
     ]
    }
   ],
   "source": [
    "sparsity = (100.0 * ayah_bow.nnz / (ayah_bow.shape[0] * ayah_bow.shape[1]))\n",
    "print('sparsity: {}'.format(round(sparsity)))"
   ]
  },
  {
   "cell_type": "code",
   "execution_count": 147,
   "id": "57cc494d",
   "metadata": {},
   "outputs": [
    {
     "name": "stdout",
     "output_type": "stream",
     "text": [
      "  (0, 25)\t0.5773502691896257\n",
      "  (0, 20)\t0.5773502691896257\n",
      "  (0, 3)\t0.5773502691896257\n"
     ]
    }
   ],
   "source": [
    "from sklearn.feature_extraction.text import TfidfTransformer\n",
    "\n",
    "tfidf_transformer = TfidfTransformer().fit(ayah_bow)\n",
    "tfidf4 = tfidf_transformer.transform(bow4)\n",
    "print(tfidf4)"
   ]
  },
  {
   "cell_type": "code",
   "execution_count": 150,
   "id": "697174fa",
   "metadata": {},
   "outputs": [
    {
     "name": "stdout",
     "output_type": "stream",
     "text": [
      "(7, 26)\n"
     ]
    }
   ],
   "source": [
    "ayah_tfidf = tfidf_transformer.transform(ayah_bow)\n",
    "print(ayah_tfidf.shape)"
   ]
  },
  {
   "cell_type": "code",
   "execution_count": null,
   "id": "20a613bb",
   "metadata": {},
   "outputs": [],
   "source": []
  }
 ],
 "metadata": {
  "kernelspec": {
   "display_name": "Python 3",
   "language": "python",
   "name": "python3"
  },
  "language_info": {
   "codemirror_mode": {
    "name": "ipython",
    "version": 3
   },
   "file_extension": ".py",
   "mimetype": "text/x-python",
   "name": "python",
   "nbconvert_exporter": "python",
   "pygments_lexer": "ipython3",
   "version": "3.8.8"
  }
 },
 "nbformat": 4,
 "nbformat_minor": 5
}
