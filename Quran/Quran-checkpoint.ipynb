{
 "cells": [
  {
   "cell_type": "code",
   "execution_count": 1,
   "id": "ee40b0c1",
   "metadata": {},
   "outputs": [],
   "source": [
    "import nltk\n",
    "import pyquran as q\n",
    "import numpy as np\n",
    "import pandas as pd\n",
    "import matplotlib.pyplot as plt\n",
    "import seaborn as sns\n",
    "%matplotlib inline"
   ]
  },
  {
   "cell_type": "code",
   "execution_count": 2,
   "id": "f6ab6fcc",
   "metadata": {},
   "outputs": [
    {
     "name": "stdout",
     "output_type": "stream",
     "text": [
      "<class 'pandas.core.frame.DataFrame'>\n",
      "RangeIndex: 115 entries, 0 to 114\n",
      "Data columns (total 5 columns):\n",
      " #   Column             Non-Null Count  Dtype \n",
      "---  ------             --------------  ----- \n",
      " 0   Sura Number        115 non-null    int32 \n",
      " 1   Sura Name          0 non-null      object\n",
      " 2   Number of Ayat     0 non-null      object\n",
      " 3   Number of Words    0 non-null      object\n",
      " 4   Number of Letters  0 non-null      object\n",
      "dtypes: int32(1), object(4)\n",
      "memory usage: 4.2+ KB\n"
     ]
    }
   ],
   "source": [
    "quran_df = pd.DataFrame(columns=[\"Sura Number\", \"Sura Name\",\"Number of Ayat\",\"Number of Words\",\"Number of Letters\"])\n",
    "quran_df['Sura Number']=range(0,115)\n",
    "quran_df.info()"
   ]
  },
  {
   "cell_type": "code",
   "execution_count": 3,
   "id": "32f7dea8",
   "metadata": {},
   "outputs": [],
   "source": [
    "def ayat_count(sura): \n",
    "    ayat = q.quran.get_sura(sura)\n",
    "    ayat_count= len(ayat)\n",
    "    return ayat_count"
   ]
  },
  {
   "cell_type": "code",
   "execution_count": 4,
   "id": "42958cd4",
   "metadata": {},
   "outputs": [
    {
     "data": {
      "text/plain": [
       "286"
      ]
     },
     "execution_count": 4,
     "metadata": {},
     "output_type": "execute_result"
    }
   ],
   "source": [
    "ayat_count(2)"
   ]
  },
  {
   "cell_type": "code",
   "execution_count": 5,
   "id": "ca431f9b",
   "metadata": {},
   "outputs": [
    {
     "name": "stderr",
     "output_type": "stream",
     "text": [
      "<ipython-input-5-41e7e993865b>:2: SettingWithCopyWarning: \n",
      "A value is trying to be set on a copy of a slice from a DataFrame\n",
      "\n",
      "See the caveats in the documentation: https://pandas.pydata.org/pandas-docs/stable/user_guide/indexing.html#returning-a-view-versus-a-copy\n",
      "  quran_df['Sura Name'][s] = q.quran.get_sura_name(s)\n",
      "<ipython-input-5-41e7e993865b>:3: SettingWithCopyWarning: \n",
      "A value is trying to be set on a copy of a slice from a DataFrame\n",
      "\n",
      "See the caveats in the documentation: https://pandas.pydata.org/pandas-docs/stable/user_guide/indexing.html#returning-a-view-versus-a-copy\n",
      "  quran_df['Number of Ayat'][s] =ayat_count(s)\n"
     ]
    },
    {
     "data": {
      "text/html": [
       "<div>\n",
       "<style scoped>\n",
       "    .dataframe tbody tr th:only-of-type {\n",
       "        vertical-align: middle;\n",
       "    }\n",
       "\n",
       "    .dataframe tbody tr th {\n",
       "        vertical-align: top;\n",
       "    }\n",
       "\n",
       "    .dataframe thead th {\n",
       "        text-align: right;\n",
       "    }\n",
       "</style>\n",
       "<table border=\"1\" class=\"dataframe\">\n",
       "  <thead>\n",
       "    <tr style=\"text-align: right;\">\n",
       "      <th></th>\n",
       "      <th>Sura Number</th>\n",
       "      <th>Sura Name</th>\n",
       "      <th>Number of Ayat</th>\n",
       "      <th>Number of Words</th>\n",
       "      <th>Number of Letters</th>\n",
       "    </tr>\n",
       "  </thead>\n",
       "  <tbody>\n",
       "    <tr>\n",
       "      <th>0</th>\n",
       "      <td>0</td>\n",
       "      <td>الناس</td>\n",
       "      <td>6</td>\n",
       "      <td>NaN</td>\n",
       "      <td>NaN</td>\n",
       "    </tr>\n",
       "    <tr>\n",
       "      <th>1</th>\n",
       "      <td>1</td>\n",
       "      <td>الفاتحة</td>\n",
       "      <td>7</td>\n",
       "      <td>NaN</td>\n",
       "      <td>NaN</td>\n",
       "    </tr>\n",
       "    <tr>\n",
       "      <th>2</th>\n",
       "      <td>2</td>\n",
       "      <td>البقرة</td>\n",
       "      <td>286</td>\n",
       "      <td>NaN</td>\n",
       "      <td>NaN</td>\n",
       "    </tr>\n",
       "    <tr>\n",
       "      <th>3</th>\n",
       "      <td>3</td>\n",
       "      <td>آل عمران</td>\n",
       "      <td>200</td>\n",
       "      <td>NaN</td>\n",
       "      <td>NaN</td>\n",
       "    </tr>\n",
       "    <tr>\n",
       "      <th>4</th>\n",
       "      <td>4</td>\n",
       "      <td>النساء</td>\n",
       "      <td>176</td>\n",
       "      <td>NaN</td>\n",
       "      <td>NaN</td>\n",
       "    </tr>\n",
       "    <tr>\n",
       "      <th>...</th>\n",
       "      <td>...</td>\n",
       "      <td>...</td>\n",
       "      <td>...</td>\n",
       "      <td>...</td>\n",
       "      <td>...</td>\n",
       "    </tr>\n",
       "    <tr>\n",
       "      <th>110</th>\n",
       "      <td>110</td>\n",
       "      <td>النصر</td>\n",
       "      <td>3</td>\n",
       "      <td>NaN</td>\n",
       "      <td>NaN</td>\n",
       "    </tr>\n",
       "    <tr>\n",
       "      <th>111</th>\n",
       "      <td>111</td>\n",
       "      <td>المسد</td>\n",
       "      <td>5</td>\n",
       "      <td>NaN</td>\n",
       "      <td>NaN</td>\n",
       "    </tr>\n",
       "    <tr>\n",
       "      <th>112</th>\n",
       "      <td>112</td>\n",
       "      <td>الإخلاص</td>\n",
       "      <td>4</td>\n",
       "      <td>NaN</td>\n",
       "      <td>NaN</td>\n",
       "    </tr>\n",
       "    <tr>\n",
       "      <th>113</th>\n",
       "      <td>113</td>\n",
       "      <td>الفلق</td>\n",
       "      <td>5</td>\n",
       "      <td>NaN</td>\n",
       "      <td>NaN</td>\n",
       "    </tr>\n",
       "    <tr>\n",
       "      <th>114</th>\n",
       "      <td>114</td>\n",
       "      <td>الناس</td>\n",
       "      <td>6</td>\n",
       "      <td>NaN</td>\n",
       "      <td>NaN</td>\n",
       "    </tr>\n",
       "  </tbody>\n",
       "</table>\n",
       "<p>115 rows × 5 columns</p>\n",
       "</div>"
      ],
      "text/plain": [
       "     Sura Number Sura Name Number of Ayat Number of Words Number of Letters\n",
       "0              0     الناس              6             NaN               NaN\n",
       "1              1   الفاتحة              7             NaN               NaN\n",
       "2              2    البقرة            286             NaN               NaN\n",
       "3              3  آل عمران            200             NaN               NaN\n",
       "4              4    النساء            176             NaN               NaN\n",
       "..           ...       ...            ...             ...               ...\n",
       "110          110     النصر              3             NaN               NaN\n",
       "111          111     المسد              5             NaN               NaN\n",
       "112          112   الإخلاص              4             NaN               NaN\n",
       "113          113     الفلق              5             NaN               NaN\n",
       "114          114     الناس              6             NaN               NaN\n",
       "\n",
       "[115 rows x 5 columns]"
      ]
     },
     "execution_count": 5,
     "metadata": {},
     "output_type": "execute_result"
    }
   ],
   "source": [
    "for s in quran_df['Sura Number']:\n",
    "    quran_df['Sura Name'][s] = q.quran.get_sura_name(s)\n",
    "    quran_df['Number of Ayat'][s] =ayat_count(s)\n",
    "quran_df"
   ]
  },
  {
   "cell_type": "code",
   "execution_count": 6,
   "id": "0313f425",
   "metadata": {},
   "outputs": [
    {
     "data": {
      "text/html": [
       "<div>\n",
       "<style scoped>\n",
       "    .dataframe tbody tr th:only-of-type {\n",
       "        vertical-align: middle;\n",
       "    }\n",
       "\n",
       "    .dataframe tbody tr th {\n",
       "        vertical-align: top;\n",
       "    }\n",
       "\n",
       "    .dataframe thead th {\n",
       "        text-align: right;\n",
       "    }\n",
       "</style>\n",
       "<table border=\"1\" class=\"dataframe\">\n",
       "  <thead>\n",
       "    <tr style=\"text-align: right;\">\n",
       "      <th></th>\n",
       "      <th>Sura Number</th>\n",
       "      <th>Sura Name</th>\n",
       "      <th>Number of Ayat</th>\n",
       "      <th>Number of Words</th>\n",
       "      <th>Number of Letters</th>\n",
       "    </tr>\n",
       "  </thead>\n",
       "  <tbody>\n",
       "    <tr>\n",
       "      <th>1</th>\n",
       "      <td>1</td>\n",
       "      <td>الفاتحة</td>\n",
       "      <td>7</td>\n",
       "      <td>NaN</td>\n",
       "      <td>NaN</td>\n",
       "    </tr>\n",
       "    <tr>\n",
       "      <th>2</th>\n",
       "      <td>2</td>\n",
       "      <td>البقرة</td>\n",
       "      <td>286</td>\n",
       "      <td>NaN</td>\n",
       "      <td>NaN</td>\n",
       "    </tr>\n",
       "    <tr>\n",
       "      <th>3</th>\n",
       "      <td>3</td>\n",
       "      <td>آل عمران</td>\n",
       "      <td>200</td>\n",
       "      <td>NaN</td>\n",
       "      <td>NaN</td>\n",
       "    </tr>\n",
       "    <tr>\n",
       "      <th>4</th>\n",
       "      <td>4</td>\n",
       "      <td>النساء</td>\n",
       "      <td>176</td>\n",
       "      <td>NaN</td>\n",
       "      <td>NaN</td>\n",
       "    </tr>\n",
       "    <tr>\n",
       "      <th>5</th>\n",
       "      <td>5</td>\n",
       "      <td>المائدة</td>\n",
       "      <td>120</td>\n",
       "      <td>NaN</td>\n",
       "      <td>NaN</td>\n",
       "    </tr>\n",
       "    <tr>\n",
       "      <th>...</th>\n",
       "      <td>...</td>\n",
       "      <td>...</td>\n",
       "      <td>...</td>\n",
       "      <td>...</td>\n",
       "      <td>...</td>\n",
       "    </tr>\n",
       "    <tr>\n",
       "      <th>110</th>\n",
       "      <td>110</td>\n",
       "      <td>النصر</td>\n",
       "      <td>3</td>\n",
       "      <td>NaN</td>\n",
       "      <td>NaN</td>\n",
       "    </tr>\n",
       "    <tr>\n",
       "      <th>111</th>\n",
       "      <td>111</td>\n",
       "      <td>المسد</td>\n",
       "      <td>5</td>\n",
       "      <td>NaN</td>\n",
       "      <td>NaN</td>\n",
       "    </tr>\n",
       "    <tr>\n",
       "      <th>112</th>\n",
       "      <td>112</td>\n",
       "      <td>الإخلاص</td>\n",
       "      <td>4</td>\n",
       "      <td>NaN</td>\n",
       "      <td>NaN</td>\n",
       "    </tr>\n",
       "    <tr>\n",
       "      <th>113</th>\n",
       "      <td>113</td>\n",
       "      <td>الفلق</td>\n",
       "      <td>5</td>\n",
       "      <td>NaN</td>\n",
       "      <td>NaN</td>\n",
       "    </tr>\n",
       "    <tr>\n",
       "      <th>114</th>\n",
       "      <td>114</td>\n",
       "      <td>الناس</td>\n",
       "      <td>6</td>\n",
       "      <td>NaN</td>\n",
       "      <td>NaN</td>\n",
       "    </tr>\n",
       "  </tbody>\n",
       "</table>\n",
       "<p>114 rows × 5 columns</p>\n",
       "</div>"
      ],
      "text/plain": [
       "     Sura Number Sura Name Number of Ayat Number of Words Number of Letters\n",
       "1              1   الفاتحة              7             NaN               NaN\n",
       "2              2    البقرة            286             NaN               NaN\n",
       "3              3  آل عمران            200             NaN               NaN\n",
       "4              4    النساء            176             NaN               NaN\n",
       "5              5   المائدة            120             NaN               NaN\n",
       "..           ...       ...            ...             ...               ...\n",
       "110          110     النصر              3             NaN               NaN\n",
       "111          111     المسد              5             NaN               NaN\n",
       "112          112   الإخلاص              4             NaN               NaN\n",
       "113          113     الفلق              5             NaN               NaN\n",
       "114          114     الناس              6             NaN               NaN\n",
       "\n",
       "[114 rows x 5 columns]"
      ]
     },
     "execution_count": 6,
     "metadata": {},
     "output_type": "execute_result"
    }
   ],
   "source": [
    "quran_df = quran_df.drop(0)\n",
    "quran_df"
   ]
  },
  {
   "cell_type": "markdown",
   "id": "047c7a00",
   "metadata": {},
   "source": [
    "# Here we define the variables and sura"
   ]
  },
  {
   "cell_type": "code",
   "execution_count": 85,
   "id": "f757347c",
   "metadata": {},
   "outputs": [],
   "source": [
    "x= quran_df['Sura Number']\n",
    "y= quran_df['Number of Ayat']\n",
    "sura_number=2\n",
    "verse_number=100\n",
    "verse_text=q.quran.get_verse(sura_number, verse_number, with_tashkeel=True)\n",
    "sura_name=q.quran.get_sura_name(sura_number)\n",
    "sura_text=q.quran.get_sura(sura_number,with_tashkeel=False)"
   ]
  },
  {
   "cell_type": "code",
   "execution_count": 86,
   "id": "1dc050c1",
   "metadata": {},
   "outputs": [
    {
     "data": {
      "image/png": "[encoded data removed]",
      "text/plain": [
       "<Figure size 432x288 with 1 Axes>"
      ]
     },
     "metadata": {
      "needs_background": "light"
     },
     "output_type": "display_data"
    }
   ],
   "source": [
    "plt.plot(x, y, 'b-*') # 'r' is the color red\n",
    "plt.xlabel('Sura Number')\n",
    "plt.ylabel('Number of Ayat')\n",
    "plt.title('QURAN number of Ayat per Surah')\n",
    "plt.show()"
   ]
  },
  {
   "cell_type": "code",
   "execution_count": 87,
   "id": "8fa39721",
   "metadata": {},
   "outputs": [
    {
     "data": {
      "text/plain": [
       "2"
      ]
     },
     "execution_count": 87,
     "metadata": {},
     "output_type": "execute_result"
    }
   ],
   "source": [
    "q.quran.get_sura_number(sura_name)"
   ]
  },
  {
   "cell_type": "code",
   "execution_count": 88,
   "id": "8fcbe2a6",
   "metadata": {},
   "outputs": [
    {
     "data": {
      "text/plain": [
       "'البقرة'"
      ]
     },
     "execution_count": 88,
     "metadata": {},
     "output_type": "execute_result"
    }
   ],
   "source": [
    "q.quran.get_sura_name(sura_number)"
   ]
  },
  {
   "cell_type": "code",
   "execution_count": 89,
   "id": "f7459fea",
   "metadata": {},
   "outputs": [],
   "source": [
    "nodot = q.systems.withoutDots"
   ]
  },
  {
   "cell_type": "code",
   "execution_count": 90,
   "id": "3ccb9b1f",
   "metadata": {},
   "outputs": [
    {
     "name": "stdout",
     "output_type": "stream",
     "text": [
      "[['ء'], ['ٔ'], ['آ'], ['أ'], ['ؤ'], ['إ'], ['ئ'], ['ا'], ['ب', 'ت', 'ث', 'ن'], ['ة'], ['ح', 'خ', 'ج'], ['د', 'ذ'], ['ر', 'ز'], ['س', 'ش'], ['ص', 'ض'], ['ط', 'ظ'], ['ع', 'غ'], ['ف', 'ق'], ['ك'], ['ل'], ['م'], ['ه'], ['و'], ['ى'], ['ي']]\n"
     ]
    }
   ],
   "source": [
    "print(q.check_system(nodot,index=None))"
   ]
  },
  {
   "cell_type": "code",
   "execution_count": 91,
   "id": "736d23a5",
   "metadata": {},
   "outputs": [
    {
     "data": {
      "text/plain": [
       "['ب', 'ت', 'ث', 'ن']"
      ]
     },
     "execution_count": 91,
     "metadata": {},
     "output_type": "execute_result"
    }
   ],
   "source": [
    "q.check_system(nodot,index=8)"
   ]
  },
  {
   "cell_type": "code",
   "execution_count": 92,
   "id": "7d821e2f",
   "metadata": {},
   "outputs": [
    {
     "data": {
      "text/plain": [
       "'أَأْ'"
      ]
     },
     "execution_count": 92,
     "metadata": {},
     "output_type": "execute_result"
    }
   ],
   "source": [
    "q.factor_alef_mad('آ')"
   ]
  },
  {
   "cell_type": "code",
   "execution_count": 93,
   "id": "070227ec",
   "metadata": {},
   "outputs": [
    {
     "name": "stdout",
     "output_type": "stream",
     "text": [
      "أَوَكُلَّمَا عَهَدُوا عَهْدًا نَّبَذَهُ فَرِيقٌ مِّنْهُم بَلْ أَكْثَرُهُمْ لَا يُؤْمِنُونَ\n",
      "['أَ', 'وَ', 'كُ', 'لَّ', 'مَ', 'ا', ' ', 'عَ', 'هَ', 'دُ', 'و', 'ا', ' ', 'عَ', 'هْ', 'دً', 'ا', ' ', 'نَّ', 'بَ', 'ذَ', 'هُ', ' ', 'فَ', 'رِ', 'ي', 'قٌ', ' ', 'مِّ', 'نْ', 'هُ', 'م', ' ', 'بَ', 'لْ', ' ', 'أَ', 'كْ', 'ثَ', 'رُ', 'هُ', 'مْ', ' ', 'لَ', 'ا', ' ', 'يُ', 'ؤْ', 'مِ', 'نُ', 'و', 'نَ']\n"
     ]
    }
   ],
   "source": [
    "print(q.grouping_letter_diacritics(verse_text))"
   ]
  },
  {
   "cell_type": "code",
   "execution_count": 94,
   "id": "f77503ca",
   "metadata": {},
   "outputs": [
    {
     "name": "stdout",
     "output_type": "stream",
     "text": [
      "['ء', 'ٔ', 'أ', 'ؤ', 'إ', 'ئ', 'ة', 'ث', 'ج', 'ح', 'خ', 'ذ', 'ر', 'ز', 'س', 'ش', 'ص', 'ض', 'ط', 'ظ', 'ع', 'غ', 'ف', 'ك', 'ل', 'م', 'ن', 'ه', 'و', 'ى']\n"
     ]
    }
   ],
   "source": [
    "print(q.alphabet_excluding([q.alef, q.beh, q.qaf, q.teh, q.dal, q.yeh, q.alef_mad]))"
   ]
  },
  {
   "cell_type": "code",
   "execution_count": 95,
   "id": "74c9f156",
   "metadata": {},
   "outputs": [
    {
     "data": {
      "text/plain": [
       "'أَوَكُلَّمَا عَهَدُوا عَهْدًا نَّبَذَهُ فَرِيقٌ مِّنْهُم بَلْ أَكْثَرُهُمْ لَا يُؤْمِنُونَ'"
      ]
     },
     "execution_count": 95,
     "metadata": {},
     "output_type": "execute_result"
    }
   ],
   "source": [
    "z = q.quran.get_verse(sura_number, verse_number, with_tashkeel=True)\n",
    "z"
   ]
  },
  {
   "cell_type": "code",
   "execution_count": 96,
   "id": "5a70cf93",
   "metadata": {},
   "outputs": [
    {
     "data": {
      "text/plain": [
       "'أوكلما عهدوا عهدا نبذه فريق منهم بل أكثرهم لا يؤمنون'"
      ]
     },
     "execution_count": 96,
     "metadata": {},
     "output_type": "execute_result"
    }
   ],
   "source": [
    "q.strip_tashkeel(z)"
   ]
  },
  {
   "cell_type": "code",
   "execution_count": 97,
   "id": "c09a8f44",
   "metadata": {},
   "outputs": [
    {
     "data": {
      "text/plain": [
       "'>awakul~amaA EahaduwA EahodFA n~aba*ahu fariyqN m~inohum balo >akovaruhumo laA yu&ominuwna'"
      ]
     },
     "execution_count": 97,
     "metadata": {},
     "output_type": "execute_result"
    }
   ],
   "source": [
    "q.buckwalter_transliteration(verse_text)"
   ]
  },
  {
   "cell_type": "code",
   "execution_count": 98,
   "id": "651f7448",
   "metadata": {},
   "outputs": [
    {
     "name": "stdout",
     "output_type": "stream",
     "text": [
      "[[ 0  0  0 ...  0  0  0]\n",
      " [ 0  0  0 ...  0  1  3]\n",
      " [ 0  0  0 ...  6  0  6]\n",
      " ...\n",
      " [ 3  0  0 ...  8  5  6]\n",
      " [ 2  0  0 ... 10  0  4]\n",
      " [ 0  0  0 ... 10  3  6]]\n"
     ]
    }
   ],
   "source": [
    "newSystem = [[q.beh, q.teh, q.theh], [q.jeem, q.hah, q.khah]]\n",
    "print(q.count_rasm(sura_text, newSystem))"
   ]
  },
  {
   "cell_type": "code",
   "execution_count": 99,
   "id": "423170a8",
   "metadata": {},
   "outputs": [
    {
     "data": {
      "text/plain": [
       "[(3, 5), (7, 9), (10, 12), (13, 15), (17, 19)]"
      ]
     },
     "execution_count": 99,
     "metadata": {},
     "output_type": "execute_result"
    }
   ],
   "source": [
    "string = 'صِفْ ذَاْ ثَنَاْ كَمْ جَاْدَ شَخْصٌ'\n",
    "q.search_string_with_tashkeel(string, 'َْ')"
   ]
  },
  {
   "cell_type": "code",
   "execution_count": 100,
   "id": "66b61099",
   "metadata": {},
   "outputs": [
    {
     "data": {
      "text/plain": [
       "{'أ': 2, 'م': 5, 'ن': 4}"
      ]
     },
     "execution_count": 100,
     "metadata": {},
     "output_type": "execute_result"
    }
   ],
   "source": [
    "q.frequency_of_character([\"أ\",\"م\",\"ن\"],chapterNum=sura_number,verseNum=verse_number,with_tashkeel=False)\n",
    "#that will count the vers number **2** in all swar"
   ]
  },
  {
   "cell_type": "code",
   "execution_count": 101,
   "id": "4abd5007",
   "metadata": {},
   "outputs": [
    {
     "data": {
      "text/plain": [
       "{'أ': 8900, 'م': 26735, 'ن': 27268}"
      ]
     },
     "execution_count": 101,
     "metadata": {},
     "output_type": "execute_result"
    }
   ],
   "source": [
    "q.frequency_of_character([\"أ\",\"م\",\"ن\"],with_tashkeel=False)\n",
    "#that will count the vers number **2** in chapter **1**"
   ]
  },
  {
   "cell_type": "code",
   "execution_count": 102,
   "id": "1debb3ae",
   "metadata": {},
   "outputs": [
    {
     "data": {
      "text/plain": [
       "{'أ': 8900, 'ب': 11491, 'تُ': 2149}"
      ]
     },
     "execution_count": 102,
     "metadata": {},
     "output_type": "execute_result"
    }
   ],
   "source": [
    "q.frequency_of_character(['أ',\"ب\",\"تُ\"],with_tashkeel=True)\n",
    "#that will count in **all Quran**"
   ]
  },
  {
   "cell_type": "code",
   "execution_count": 103,
   "id": "978d4934",
   "metadata": {},
   "outputs": [],
   "source": [
    "frequency_dic_aya = q.frequency_sura_level(sura_number)"
   ]
  },
  {
   "cell_type": "code",
   "execution_count": 104,
   "id": "b6d694bc",
   "metadata": {},
   "outputs": [],
   "source": [
    "frequency_dic_sura = q.generate_frequency_dictionary(sura_number)\n",
    "frequency_dic_Similar= q.sort_dictionary_by_similarity(frequency_dic_sura)\n",
    "# this dictionary is sorted using similarity 0.8"
   ]
  },
  {
   "cell_type": "code",
   "execution_count": 105,
   "id": "5b8c95ae",
   "metadata": {},
   "outputs": [
    {
     "data": {
      "text/plain": [
       "True"
      ]
     },
     "execution_count": 105,
     "metadata": {},
     "output_type": "execute_result"
    }
   ],
   "source": [
    "q.check_sura_with_frequency(sura_number, frequency_dic_sura)"
   ]
  },
  {
   "cell_type": "code",
   "execution_count": 106,
   "id": "0feda70c",
   "metadata": {},
   "outputs": [
    {
     "data": {
      "text/plain": [
       "{'الدين': [('الدِّينَ', 11, 132, 2),\n",
       "  ('الدِّينُ', 7, 193, 2),\n",
       "  ('الدِّينِ', 4, 256, 2)]}"
      ]
     },
     "execution_count": 106,
     "metadata": {},
     "output_type": "execute_result"
    }
   ],
   "source": [
    "# search in chapter = 1 only using mode 3 (default)\n",
    "q.search_sequence(sequancesList=['الدين'],chapterNum=sura_number)\n",
    "#it will return\n",
    "#{'sequance-1' : [ (matched_sequance , position , vers_num , chapter_num) , (....) ],\n",
    "# 'sequance-2' : [ (matched_sequance , position , vers_num , chapter_num) , (....) ] }\n",
    "# Note : position == 0 if sequance is a sentence and == word position if sequance is a word"
   ]
  },
  {
   "cell_type": "code",
   "execution_count": 107,
   "id": "953f47bd",
   "metadata": {},
   "outputs": [
    {
     "name": "stdout",
     "output_type": "stream",
     "text": [
      "(0, 'الم')\n",
      "\n",
      "\n",
      "(1, 'ذلك الكتب لا ريب فيه هدى للمتقين')\n",
      "\n",
      "\n",
      "(2, 'الذين يؤمنون بالغيب ويقيمون الصلوة ومما رزقنهم ينفقون')\n",
      "\n",
      "\n",
      "(3, 'والذين يؤمنون بما أنزل إليك وما أنزل من قبلك وبالءاخرة هم يوقنون')\n",
      "\n",
      "\n",
      "(4, 'أولئك على هدى من ربهم وأولئك هم المفلحون')\n",
      "\n",
      "\n",
      "(5, 'إن الذين كفروا سواء عليهم ءأنذرتهم أم لم تنذرهم لا يؤمنون')\n",
      "\n",
      "\n",
      "(6, 'ختم الله على قلوبهم وعلى سمعهم وعلى أبصرهم غشوة ولهم عذاب عظيم')\n",
      "\n",
      "\n"
     ]
    }
   ],
   "source": [
    "for aya in enumerate(sura_text[0:7]):\n",
    "    print(aya)\n",
    "    print('\\n')"
   ]
  },
  {
   "cell_type": "code",
   "execution_count": 108,
   "id": "5602e753",
   "metadata": {},
   "outputs": [],
   "source": [
    "aya_text = pd.DataFrame(sura_text)\n",
    "aya_text.columns=['Aya Text']"
   ]
  },
  {
   "cell_type": "code",
   "execution_count": 109,
   "id": "e5f9e9c3",
   "metadata": {},
   "outputs": [
    {
     "data": {
      "text/html": [
       "<div>\n",
       "<style scoped>\n",
       "    .dataframe tbody tr th:only-of-type {\n",
       "        vertical-align: middle;\n",
       "    }\n",
       "\n",
       "    .dataframe tbody tr th {\n",
       "        vertical-align: top;\n",
       "    }\n",
       "\n",
       "    .dataframe thead th {\n",
       "        text-align: right;\n",
       "    }\n",
       "</style>\n",
       "<table border=\"1\" class=\"dataframe\">\n",
       "  <thead>\n",
       "    <tr style=\"text-align: right;\">\n",
       "      <th></th>\n",
       "      <th>Aya Text</th>\n",
       "      <th>Aya Letter Count</th>\n",
       "    </tr>\n",
       "  </thead>\n",
       "  <tbody>\n",
       "    <tr>\n",
       "      <th>0</th>\n",
       "      <td>الم</td>\n",
       "      <td>3</td>\n",
       "    </tr>\n",
       "    <tr>\n",
       "      <th>1</th>\n",
       "      <td>ذلك الكتب لا ريب فيه هدى للمتقين</td>\n",
       "      <td>32</td>\n",
       "    </tr>\n",
       "    <tr>\n",
       "      <th>2</th>\n",
       "      <td>الذين يؤمنون بالغيب ويقيمون الصلوة ومما رزقنهم...</td>\n",
       "      <td>53</td>\n",
       "    </tr>\n",
       "    <tr>\n",
       "      <th>3</th>\n",
       "      <td>والذين يؤمنون بما أنزل إليك وما أنزل من قبلك و...</td>\n",
       "      <td>64</td>\n",
       "    </tr>\n",
       "    <tr>\n",
       "      <th>4</th>\n",
       "      <td>أولئك على هدى من ربهم وأولئك هم المفلحون</td>\n",
       "      <td>40</td>\n",
       "    </tr>\n",
       "  </tbody>\n",
       "</table>\n",
       "</div>"
      ],
      "text/plain": [
       "                                            Aya Text  Aya Letter Count\n",
       "0                                                الم                 3\n",
       "1                   ذلك الكتب لا ريب فيه هدى للمتقين                32\n",
       "2  الذين يؤمنون بالغيب ويقيمون الصلوة ومما رزقنهم...                53\n",
       "3  والذين يؤمنون بما أنزل إليك وما أنزل من قبلك و...                64\n",
       "4           أولئك على هدى من ربهم وأولئك هم المفلحون                40"
      ]
     },
     "execution_count": 109,
     "metadata": {},
     "output_type": "execute_result"
    }
   ],
   "source": [
    "aya_text['Aya Letter Count'] = aya_text['Aya Text'].apply(len)\n",
    "aya_text.head()"
   ]
  },
  {
   "cell_type": "code",
   "execution_count": 110,
   "id": "6deb827a",
   "metadata": {},
   "outputs": [
    {
     "data": {
      "text/plain": [
       "<AxesSubplot:ylabel='Frequency'>"
      ]
     },
     "execution_count": 110,
     "metadata": {},
     "output_type": "execute_result"
    },
    {
     "data": {
      "image/png": "[encoded data removed]",
      "text/plain": [
       "<Figure size 432x288 with 1 Axes>"
      ]
     },
     "metadata": {
      "needs_background": "light"
     },
     "output_type": "display_data"
    }
   ],
   "source": [
    "aya_text['Aya Letter Count'].plot(bins=200, kind='hist') "
   ]
  },
  {
   "cell_type": "code",
   "execution_count": 111,
   "id": "08ce72a1",
   "metadata": {},
   "outputs": [
    {
     "data": {
      "text/plain": [
       "31730"
      ]
     },
     "execution_count": 111,
     "metadata": {},
     "output_type": "execute_result"
    }
   ],
   "source": [
    "aya_text['Aya Letter Count'].sum()"
   ]
  },
  {
   "cell_type": "code",
   "execution_count": 112,
   "id": "abf08b27",
   "metadata": {},
   "outputs": [
    {
     "name": "stderr",
     "output_type": "stream",
     "text": [
      "<ipython-input-112-be060e80c846>:1: SettingWithCopyWarning: \n",
      "A value is trying to be set on a copy of a slice from a DataFrame\n",
      "\n",
      "See the caveats in the documentation: https://pandas.pydata.org/pandas-docs/stable/user_guide/indexing.html#returning-a-view-versus-a-copy\n",
      "  quran_df['Number of Letters'][sura_number]=aya_text['Aya Letter Count'].sum()\n"
     ]
    }
   ],
   "source": [
    "quran_df['Number of Letters'][sura_number]=aya_text['Aya Letter Count'].sum()"
   ]
  },
  {
   "cell_type": "code",
   "execution_count": 113,
   "id": "6a03bc6a",
   "metadata": {},
   "outputs": [
    {
     "data": {
      "text/html": [
       "<div>\n",
       "<style scoped>\n",
       "    .dataframe tbody tr th:only-of-type {\n",
       "        vertical-align: middle;\n",
       "    }\n",
       "\n",
       "    .dataframe tbody tr th {\n",
       "        vertical-align: top;\n",
       "    }\n",
       "\n",
       "    .dataframe thead th {\n",
       "        text-align: right;\n",
       "    }\n",
       "</style>\n",
       "<table border=\"1\" class=\"dataframe\">\n",
       "  <thead>\n",
       "    <tr style=\"text-align: right;\">\n",
       "      <th></th>\n",
       "      <th>Sura Number</th>\n",
       "      <th>Sura Name</th>\n",
       "      <th>Number of Ayat</th>\n",
       "      <th>Number of Words</th>\n",
       "      <th>Number of Letters</th>\n",
       "    </tr>\n",
       "  </thead>\n",
       "  <tbody>\n",
       "    <tr>\n",
       "      <th>1</th>\n",
       "      <td>1</td>\n",
       "      <td>الفاتحة</td>\n",
       "      <td>7</td>\n",
       "      <td>NaN</td>\n",
       "      <td>NaN</td>\n",
       "    </tr>\n",
       "    <tr>\n",
       "      <th>2</th>\n",
       "      <td>2</td>\n",
       "      <td>البقرة</td>\n",
       "      <td>286</td>\n",
       "      <td>6116</td>\n",
       "      <td>31730</td>\n",
       "    </tr>\n",
       "    <tr>\n",
       "      <th>3</th>\n",
       "      <td>3</td>\n",
       "      <td>آل عمران</td>\n",
       "      <td>200</td>\n",
       "      <td>NaN</td>\n",
       "      <td>NaN</td>\n",
       "    </tr>\n",
       "    <tr>\n",
       "      <th>4</th>\n",
       "      <td>4</td>\n",
       "      <td>النساء</td>\n",
       "      <td>176</td>\n",
       "      <td>NaN</td>\n",
       "      <td>NaN</td>\n",
       "    </tr>\n",
       "    <tr>\n",
       "      <th>5</th>\n",
       "      <td>5</td>\n",
       "      <td>المائدة</td>\n",
       "      <td>120</td>\n",
       "      <td>NaN</td>\n",
       "      <td>NaN</td>\n",
       "    </tr>\n",
       "  </tbody>\n",
       "</table>\n",
       "</div>"
      ],
      "text/plain": [
       "   Sura Number Sura Name Number of Ayat Number of Words Number of Letters\n",
       "1            1   الفاتحة              7             NaN               NaN\n",
       "2            2    البقرة            286            6116             31730\n",
       "3            3  آل عمران            200             NaN               NaN\n",
       "4            4    النساء            176             NaN               NaN\n",
       "5            5   المائدة            120             NaN               NaN"
      ]
     },
     "execution_count": 113,
     "metadata": {},
     "output_type": "execute_result"
    }
   ],
   "source": [
    "quran_df.head()"
   ]
  },
  {
   "cell_type": "code",
   "execution_count": 1,
   "id": "6cb57ac0",
   "metadata": {},
   "outputs": [
    {
     "ename": "NameError",
     "evalue": "name 'aya_text' is not defined",
     "output_type": "error",
     "traceback": [
      "\u001b[1;31m---------------------------------------------------------------------------\u001b[0m",
      "\u001b[1;31mNameError\u001b[0m                                 Traceback (most recent call last)",
      "\u001b[1;32m<ipython-input-1-9a5d6c92f6d0>\u001b[0m in \u001b[0;36m<module>\u001b[1;34m\u001b[0m\n\u001b[1;32m----> 1\u001b[1;33m \u001b[0maya_text\u001b[0m\u001b[1;33m[\u001b[0m\u001b[1;34m'Aya Words'\u001b[0m\u001b[1;33m]\u001b[0m\u001b[1;33m=\u001b[0m\u001b[0maya_text\u001b[0m\u001b[1;33m[\u001b[0m\u001b[1;34m'Aya Text'\u001b[0m\u001b[1;33m]\u001b[0m\u001b[1;33m\u001b[0m\u001b[1;33m\u001b[0m\u001b[0m\n\u001b[0m\u001b[0;32m      2\u001b[0m \u001b[1;32mfor\u001b[0m \u001b[0mn\u001b[0m \u001b[1;32min\u001b[0m \u001b[0maya_text\u001b[0m\u001b[1;33m[\u001b[0m\u001b[1;34m'Aya Text'\u001b[0m\u001b[1;33m]\u001b[0m\u001b[1;33m.\u001b[0m\u001b[0mindex\u001b[0m\u001b[1;33m:\u001b[0m\u001b[1;33m\u001b[0m\u001b[1;33m\u001b[0m\u001b[0m\n\u001b[0;32m      3\u001b[0m     \u001b[0maya_text\u001b[0m\u001b[1;33m[\u001b[0m\u001b[1;34m'Aya Words'\u001b[0m\u001b[1;33m]\u001b[0m\u001b[1;33m[\u001b[0m\u001b[0mn\u001b[0m\u001b[1;33m]\u001b[0m \u001b[1;33m=\u001b[0m \u001b[0maya_text\u001b[0m\u001b[1;33m[\u001b[0m\u001b[1;34m'Aya Text'\u001b[0m\u001b[1;33m]\u001b[0m\u001b[1;33m[\u001b[0m\u001b[0mn\u001b[0m\u001b[1;33m]\u001b[0m\u001b[1;33m.\u001b[0m\u001b[0msplit\u001b[0m\u001b[1;33m(\u001b[0m\u001b[1;33m)\u001b[0m\u001b[1;33m\u001b[0m\u001b[1;33m\u001b[0m\u001b[0m\n",
      "\u001b[1;31mNameError\u001b[0m: name 'aya_text' is not defined"
     ]
    }
   ],
   "source": [
    "aya_text['Aya Words']=aya_text['Aya Text']\n",
    "for n in aya_text['Aya Text'].index:\n",
    "    aya_text['Aya Words'][n] = aya_text['Aya Text'][n].split()"
   ]
  },
  {
   "cell_type": "code",
   "execution_count": 115,
   "id": "5a225ef1",
   "metadata": {},
   "outputs": [
    {
     "data": {
      "text/html": [
       "<div>\n",
       "<style scoped>\n",
       "    .dataframe tbody tr th:only-of-type {\n",
       "        vertical-align: middle;\n",
       "    }\n",
       "\n",
       "    .dataframe tbody tr th {\n",
       "        vertical-align: top;\n",
       "    }\n",
       "\n",
       "    .dataframe thead th {\n",
       "        text-align: right;\n",
       "    }\n",
       "</style>\n",
       "<table border=\"1\" class=\"dataframe\">\n",
       "  <thead>\n",
       "    <tr style=\"text-align: right;\">\n",
       "      <th></th>\n",
       "      <th>Aya Text</th>\n",
       "      <th>Aya Letter Count</th>\n",
       "      <th>Aya Words</th>\n",
       "    </tr>\n",
       "  </thead>\n",
       "  <tbody>\n",
       "    <tr>\n",
       "      <th>0</th>\n",
       "      <td>الم</td>\n",
       "      <td>3</td>\n",
       "      <td>[الم]</td>\n",
       "    </tr>\n",
       "    <tr>\n",
       "      <th>1</th>\n",
       "      <td>ذلك الكتب لا ريب فيه هدى للمتقين</td>\n",
       "      <td>32</td>\n",
       "      <td>[ذلك, الكتب, لا, ريب, فيه, هدى, للمتقين]</td>\n",
       "    </tr>\n",
       "    <tr>\n",
       "      <th>2</th>\n",
       "      <td>الذين يؤمنون بالغيب ويقيمون الصلوة ومما رزقنهم...</td>\n",
       "      <td>53</td>\n",
       "      <td>[الذين, يؤمنون, بالغيب, ويقيمون, الصلوة, ومما,...</td>\n",
       "    </tr>\n",
       "    <tr>\n",
       "      <th>3</th>\n",
       "      <td>والذين يؤمنون بما أنزل إليك وما أنزل من قبلك و...</td>\n",
       "      <td>64</td>\n",
       "      <td>[والذين, يؤمنون, بما, أنزل, إليك, وما, أنزل, م...</td>\n",
       "    </tr>\n",
       "    <tr>\n",
       "      <th>4</th>\n",
       "      <td>أولئك على هدى من ربهم وأولئك هم المفلحون</td>\n",
       "      <td>40</td>\n",
       "      <td>[أولئك, على, هدى, من, ربهم, وأولئك, هم, المفلحون]</td>\n",
       "    </tr>\n",
       "  </tbody>\n",
       "</table>\n",
       "</div>"
      ],
      "text/plain": [
       "                                            Aya Text  Aya Letter Count  \\\n",
       "0                                                الم                 3   \n",
       "1                   ذلك الكتب لا ريب فيه هدى للمتقين                32   \n",
       "2  الذين يؤمنون بالغيب ويقيمون الصلوة ومما رزقنهم...                53   \n",
       "3  والذين يؤمنون بما أنزل إليك وما أنزل من قبلك و...                64   \n",
       "4           أولئك على هدى من ربهم وأولئك هم المفلحون                40   \n",
       "\n",
       "                                           Aya Words  \n",
       "0                                              [الم]  \n",
       "1           [ذلك, الكتب, لا, ريب, فيه, هدى, للمتقين]  \n",
       "2  [الذين, يؤمنون, بالغيب, ويقيمون, الصلوة, ومما,...  \n",
       "3  [والذين, يؤمنون, بما, أنزل, إليك, وما, أنزل, م...  \n",
       "4  [أولئك, على, هدى, من, ربهم, وأولئك, هم, المفلحون]  "
      ]
     },
     "execution_count": 115,
     "metadata": {},
     "output_type": "execute_result"
    }
   ],
   "source": [
    "aya_text.head()"
   ]
  },
  {
   "cell_type": "code",
   "execution_count": 116,
   "id": "d9af0c20",
   "metadata": {},
   "outputs": [],
   "source": [
    "aya_text['Aya Word Count'] = aya_text['Aya Words'].apply(len)"
   ]
  },
  {
   "cell_type": "code",
   "execution_count": 117,
   "id": "9f876547",
   "metadata": {},
   "outputs": [
    {
     "data": {
      "text/html": [
       "<div>\n",
       "<style scoped>\n",
       "    .dataframe tbody tr th:only-of-type {\n",
       "        vertical-align: middle;\n",
       "    }\n",
       "\n",
       "    .dataframe tbody tr th {\n",
       "        vertical-align: top;\n",
       "    }\n",
       "\n",
       "    .dataframe thead th {\n",
       "        text-align: right;\n",
       "    }\n",
       "</style>\n",
       "<table border=\"1\" class=\"dataframe\">\n",
       "  <thead>\n",
       "    <tr style=\"text-align: right;\">\n",
       "      <th></th>\n",
       "      <th>Aya Text</th>\n",
       "      <th>Aya Letter Count</th>\n",
       "      <th>Aya Words</th>\n",
       "      <th>Aya Word Count</th>\n",
       "    </tr>\n",
       "  </thead>\n",
       "  <tbody>\n",
       "    <tr>\n",
       "      <th>0</th>\n",
       "      <td>الم</td>\n",
       "      <td>3</td>\n",
       "      <td>[الم]</td>\n",
       "      <td>1</td>\n",
       "    </tr>\n",
       "    <tr>\n",
       "      <th>1</th>\n",
       "      <td>ذلك الكتب لا ريب فيه هدى للمتقين</td>\n",
       "      <td>32</td>\n",
       "      <td>[ذلك, الكتب, لا, ريب, فيه, هدى, للمتقين]</td>\n",
       "      <td>7</td>\n",
       "    </tr>\n",
       "    <tr>\n",
       "      <th>2</th>\n",
       "      <td>الذين يؤمنون بالغيب ويقيمون الصلوة ومما رزقنهم...</td>\n",
       "      <td>53</td>\n",
       "      <td>[الذين, يؤمنون, بالغيب, ويقيمون, الصلوة, ومما,...</td>\n",
       "      <td>8</td>\n",
       "    </tr>\n",
       "    <tr>\n",
       "      <th>3</th>\n",
       "      <td>والذين يؤمنون بما أنزل إليك وما أنزل من قبلك و...</td>\n",
       "      <td>64</td>\n",
       "      <td>[والذين, يؤمنون, بما, أنزل, إليك, وما, أنزل, م...</td>\n",
       "      <td>12</td>\n",
       "    </tr>\n",
       "    <tr>\n",
       "      <th>4</th>\n",
       "      <td>أولئك على هدى من ربهم وأولئك هم المفلحون</td>\n",
       "      <td>40</td>\n",
       "      <td>[أولئك, على, هدى, من, ربهم, وأولئك, هم, المفلحون]</td>\n",
       "      <td>8</td>\n",
       "    </tr>\n",
       "  </tbody>\n",
       "</table>\n",
       "</div>"
      ],
      "text/plain": [
       "                                            Aya Text  Aya Letter Count  \\\n",
       "0                                                الم                 3   \n",
       "1                   ذلك الكتب لا ريب فيه هدى للمتقين                32   \n",
       "2  الذين يؤمنون بالغيب ويقيمون الصلوة ومما رزقنهم...                53   \n",
       "3  والذين يؤمنون بما أنزل إليك وما أنزل من قبلك و...                64   \n",
       "4           أولئك على هدى من ربهم وأولئك هم المفلحون                40   \n",
       "\n",
       "                                           Aya Words  Aya Word Count  \n",
       "0                                              [الم]               1  \n",
       "1           [ذلك, الكتب, لا, ريب, فيه, هدى, للمتقين]               7  \n",
       "2  [الذين, يؤمنون, بالغيب, ويقيمون, الصلوة, ومما,...               8  \n",
       "3  [والذين, يؤمنون, بما, أنزل, إليك, وما, أنزل, م...              12  \n",
       "4  [أولئك, على, هدى, من, ربهم, وأولئك, هم, المفلحون]               8  "
      ]
     },
     "execution_count": 117,
     "metadata": {},
     "output_type": "execute_result"
    }
   ],
   "source": [
    "aya_text.head()"
   ]
  },
  {
   "cell_type": "code",
   "execution_count": 118,
   "id": "e24f9242",
   "metadata": {},
   "outputs": [
    {
     "name": "stderr",
     "output_type": "stream",
     "text": [
      "<ipython-input-118-04f8cef27813>:1: SettingWithCopyWarning: \n",
      "A value is trying to be set on a copy of a slice from a DataFrame\n",
      "\n",
      "See the caveats in the documentation: https://pandas.pydata.org/pandas-docs/stable/user_guide/indexing.html#returning-a-view-versus-a-copy\n",
      "  quran_df['Number of Words'][sura_number]=aya_text['Aya Word Count'].sum()\n"
     ]
    }
   ],
   "source": [
    "quran_df['Number of Words'][sura_number]=aya_text['Aya Word Count'].sum()"
   ]
  },
  {
   "cell_type": "code",
   "execution_count": 119,
   "id": "5c465f9b",
   "metadata": {},
   "outputs": [
    {
     "data": {
      "text/html": [
       "<div>\n",
       "<style scoped>\n",
       "    .dataframe tbody tr th:only-of-type {\n",
       "        vertical-align: middle;\n",
       "    }\n",
       "\n",
       "    .dataframe tbody tr th {\n",
       "        vertical-align: top;\n",
       "    }\n",
       "\n",
       "    .dataframe thead th {\n",
       "        text-align: right;\n",
       "    }\n",
       "</style>\n",
       "<table border=\"1\" class=\"dataframe\">\n",
       "  <thead>\n",
       "    <tr style=\"text-align: right;\">\n",
       "      <th></th>\n",
       "      <th>Sura Number</th>\n",
       "      <th>Sura Name</th>\n",
       "      <th>Number of Ayat</th>\n",
       "      <th>Number of Words</th>\n",
       "      <th>Number of Letters</th>\n",
       "    </tr>\n",
       "  </thead>\n",
       "  <tbody>\n",
       "    <tr>\n",
       "      <th>1</th>\n",
       "      <td>1</td>\n",
       "      <td>الفاتحة</td>\n",
       "      <td>7</td>\n",
       "      <td>NaN</td>\n",
       "      <td>NaN</td>\n",
       "    </tr>\n",
       "    <tr>\n",
       "      <th>2</th>\n",
       "      <td>2</td>\n",
       "      <td>البقرة</td>\n",
       "      <td>286</td>\n",
       "      <td>6116</td>\n",
       "      <td>31730</td>\n",
       "    </tr>\n",
       "    <tr>\n",
       "      <th>3</th>\n",
       "      <td>3</td>\n",
       "      <td>آل عمران</td>\n",
       "      <td>200</td>\n",
       "      <td>NaN</td>\n",
       "      <td>NaN</td>\n",
       "    </tr>\n",
       "    <tr>\n",
       "      <th>4</th>\n",
       "      <td>4</td>\n",
       "      <td>النساء</td>\n",
       "      <td>176</td>\n",
       "      <td>NaN</td>\n",
       "      <td>NaN</td>\n",
       "    </tr>\n",
       "    <tr>\n",
       "      <th>5</th>\n",
       "      <td>5</td>\n",
       "      <td>المائدة</td>\n",
       "      <td>120</td>\n",
       "      <td>NaN</td>\n",
       "      <td>NaN</td>\n",
       "    </tr>\n",
       "  </tbody>\n",
       "</table>\n",
       "</div>"
      ],
      "text/plain": [
       "   Sura Number Sura Name Number of Ayat Number of Words Number of Letters\n",
       "1            1   الفاتحة              7             NaN               NaN\n",
       "2            2    البقرة            286            6116             31730\n",
       "3            3  آل عمران            200             NaN               NaN\n",
       "4            4    النساء            176             NaN               NaN\n",
       "5            5   المائدة            120             NaN               NaN"
      ]
     },
     "execution_count": 119,
     "metadata": {},
     "output_type": "execute_result"
    }
   ],
   "source": [
    "quran_df.head()"
   ]
  },
  {
   "cell_type": "code",
   "execution_count": 120,
   "id": "0da3abe7",
   "metadata": {},
   "outputs": [
    {
     "data": {
      "text/plain": [
       "array([[<AxesSubplot:title={'center':'Aya Letter Count'}>]], dtype=object)"
      ]
     },
     "execution_count": 120,
     "metadata": {},
     "output_type": "execute_result"
    },
    {
     "data": {
      "image/png": "[encoded data removed]",
      "text/plain": [
       "<Figure size 864x288 with 1 Axes>"
      ]
     },
     "metadata": {
      "needs_background": "light"
     },
     "output_type": "display_data"
    }
   ],
   "source": [
    "aya_text.hist(column='Aya Letter Count', bins=200,figsize=(12,4))"
   ]
  },
  {
   "cell_type": "code",
   "execution_count": 131,
   "id": "a176eb7e",
   "metadata": {},
   "outputs": [],
   "source": [
    "from sklearn.feature_extraction.text import CountVectorizer"
   ]
  },
  {
   "cell_type": "code",
   "execution_count": 132,
   "id": "0fa1398f",
   "metadata": {},
   "outputs": [
    {
     "name": "stdout",
     "output_type": "stream",
     "text": [
      "2279\n",
      "2274\n"
     ]
    }
   ],
   "source": [
    "count_vector = CountVectorizer()\n",
    "bow_transformer = count_vector.fit(aya_text['Aya Text'])\n",
    "\n",
    "# Print total number of vocab words\n",
    "print(len(bow_transformer.vocabulary_))\n",
    "print(len(frequency_dic_sura))"
   ]
  },
  {
   "cell_type": "code",
   "execution_count": 123,
   "id": "abd0bc11",
   "metadata": {},
   "outputs": [
    {
     "name": "stdout",
     "output_type": "stream",
     "text": [
      "أوكلما عهدوا عهدا نبذه فريق منهم بل أكثرهم لا يؤمنون\n"
     ]
    }
   ],
   "source": [
    "aya4 = aya_text['Aya Text'][verse_number-1]\n",
    "print(aya4)"
   ]
  },
  {
   "cell_type": "code",
   "execution_count": 133,
   "id": "6a96f784",
   "metadata": {},
   "outputs": [
    {
     "name": "stdout",
     "output_type": "stream",
     "text": [
      "  (0, 126)\t1\n",
      "  (0, 187)\t1\n",
      "  (0, 630)\t1\n",
      "  (0, 1155)\t1\n",
      "  (0, 1157)\t1\n",
      "  (0, 1261)\t1\n",
      "  (0, 1449)\t1\n",
      "  (0, 1609)\t1\n",
      "  (0, 1635)\t1\n",
      "  (0, 2092)\t1\n",
      "(1, 2279)\n"
     ]
    }
   ],
   "source": [
    "bow4 = bow_transformer.transform([aya4])\n",
    "print(bow4)\n",
    "print(bow4.shape)"
   ]
  },
  {
   "cell_type": "code",
   "execution_count": 136,
   "id": "63edbefd",
   "metadata": {},
   "outputs": [
    {
     "name": "stdout",
     "output_type": "stream",
     "text": [
      "أكثرهم\n",
      "يؤمنون\n"
     ]
    }
   ],
   "source": [
    "print(bow_transformer.get_feature_names()[126])\n",
    "print(bow_transformer.get_feature_names()[2092])"
   ]
  },
  {
   "cell_type": "code",
   "execution_count": 137,
   "id": "9f22069b",
   "metadata": {},
   "outputs": [],
   "source": [
    "ayah_bow = bow_transformer.transform(aya_text['Aya Text'])"
   ]
  },
  {
   "cell_type": "code",
   "execution_count": 127,
   "id": "63bf93c7",
   "metadata": {},
   "outputs": [
    {
     "name": "stdout",
     "output_type": "stream",
     "text": [
      "Shape of Sparse Matrix:  (286, 2279)\n",
      "Amount of Non-Zero occurences:  5579\n"
     ]
    }
   ],
   "source": [
    "print('Shape of Sparse Matrix: ', ayah_bow.shape)\n",
    "print('Amount of Non-Zero occurences: ', ayah_bow.nnz)"
   ]
  },
  {
   "cell_type": "code",
   "execution_count": 140,
   "id": "84b817ac",
   "metadata": {},
   "outputs": [
    {
     "name": "stdout",
     "output_type": "stream",
     "text": [
      "sparsity: 0.8559452833257133\n"
     ]
    }
   ],
   "source": [
    "sparsity = (100.0 * ayah_bow.nnz / (ayah_bow.shape[0] * ayah_bow.shape[1]))\n",
    "print('sparsity: {}'.format(sparsity))"
   ]
  },
  {
   "cell_type": "code",
   "execution_count": 141,
   "id": "57cb544b",
   "metadata": {},
   "outputs": [],
   "source": [
    "from sklearn.feature_extraction.text import TfidfTransformer\n",
    "\n",
    "tfidf_transformer = TfidfTransformer().fit(ayah_bow)"
   ]
  },
  {
   "cell_type": "code",
   "execution_count": 142,
   "id": "eca0b7a3",
   "metadata": {},
   "outputs": [
    {
     "name": "stdout",
     "output_type": "stream",
     "text": [
      "  (0, 2092)\t0.29024735085172204\n",
      "  (0, 1635)\t0.3673886627284181\n",
      "  (0, 1609)\t0.2570575949209521\n",
      "  (0, 1449)\t0.15898826186824913\n",
      "  (0, 1261)\t0.32470677942191534\n",
      "  (0, 1157)\t0.34242136153395764\n",
      "  (0, 1155)\t0.34242136153395764\n",
      "  (0, 630)\t0.28202489611541254\n",
      "  (0, 187)\t0.3673886627284181\n",
      "  (0, 126)\t0.3673886627284181\n"
     ]
    }
   ],
   "source": [
    "tfidf4 = tfidf_transformer.transform(bow4)\n",
    "print(tfidf4)"
   ]
  },
  {
   "cell_type": "code",
   "execution_count": 130,
   "id": "06d1b127",
   "metadata": {},
   "outputs": [
    {
     "name": "stdout",
     "output_type": "stream",
     "text": [
      "(286, 2279)\n"
     ]
    }
   ],
   "source": [
    "ayah_tfidf = tfidf_transformer.transform(ayah_bow)\n",
    "print(ayah_tfidf.shape)"
   ]
  },
  {
   "cell_type": "code",
   "execution_count": null,
   "id": "579f3414",
   "metadata": {},
   "outputs": [],
   "source": [
    "pd.read_csv('Re')"
   ]
  },
  {
   "cell_type": "code",
   "execution_count": null,
   "id": "496acf01",
   "metadata": {},
   "outputs": [],
   "source": [
    "from sklearn.naive_bayes import MultinomialNB\n",
    "MeMa_detect_model = MultinomialNB().fit(ayah_tfidf, messages['label'])"
   ]
  }
 ],
 "metadata": {
  "kernelspec": {
   "display_name": "Python 3",
   "language": "python",
   "name": "python3"
  },
  "language_info": {
   "codemirror_mode": {
    "name": "ipython",
    "version": 3
   },
   "file_extension": ".py",
   "mimetype": "text/x-python",
   "name": "python",
   "nbconvert_exporter": "python",
   "pygments_lexer": "ipython3",
   "version": "3.8.8"
  }
 },
 "nbformat": 4,
 "nbformat_minor": 5
}
